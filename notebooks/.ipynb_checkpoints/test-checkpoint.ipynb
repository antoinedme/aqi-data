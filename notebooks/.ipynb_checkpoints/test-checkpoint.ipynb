{
 "cells": [
  {
   "cell_type": "code",
   "execution_count": 11,
   "metadata": {},
   "outputs": [],
   "source": [
    "import requests\n",
    "import pandas as pd\n",
    "import numpy as np\n",
    "import json\n",
    "from datetime import datetime\n",
    "from datetime import timedelta\n",
    "import pytz\n",
    "import dateutil.parser"
   ]
  },
  {
   "cell_type": "code",
   "execution_count": 15,
   "metadata": {},
   "outputs": [],
   "source": [
    "AQIDict = {\n",
    "    \"data\" : [\n",
    "        {\n",
    "            \"sourceType\" : 'ext',\n",
    "            \"sourceCodeName\" : 'Paris Centre',\n",
    "            \"cityCode\" : 'PAR',\n",
    "            \"sourceData\": [ \n",
    "                {\n",
    "                    \"variableName\": 'no2',\n",
    "                    \"measuredUnit\": 'μg/㎥',\n",
    "                    \"values\":[]\n",
    "                },\n",
    "                {\n",
    "                    \"variableName\": 'o3',\n",
    "                    \"measuredUnit\": 'μg/㎥',\n",
    "                    \"values\":[]\n",
    "                }\n",
    "            ]\n",
    "        }\n",
    "    ]\n",
    "}\n",
    "\n"
   ]
  },
  {
   "cell_type": "code",
   "execution_count": 16,
   "metadata": {},
   "outputs": [
    {
     "name": "stdout",
     "output_type": "stream",
     "text": [
      "Done!\n"
     ]
    }
   ],
   "source": [
    "\n",
    "csv = pd.read_csv('../Paris AQ Data/airparif_data_by_stations/20190521_20190829-PA13_auto.csv',skiprows=[1],sep=';')\n",
    "date = csv['date'].tolist()\n",
    "time = csv['heure'].tolist()\n",
    "#co = csv['CO'].tolist()\n",
    "no2 = csv['NO2'].tolist()\n",
    "o3 = csv['O3'].tolist()\n",
    "#pm10 = csv['PM10'].tolist()\n",
    "#pm25 = csv['PM25'].tolist()\n",
    "for i in range(len(date)):\n",
    "    for item in AQIDict['data'][0]['sourceData']:\n",
    "        if time[i] == 24:\n",
    "            objDate = datetime.strptime(date[i]+' '+'00', '%d/%m/%Y %H') + timedelta(days=1)\n",
    "        else:\n",
    "            objDate = datetime.strptime(date[i]+' '+str(time[i]), '%d/%m/%Y %H')\n",
    "        #Convert to UTC, paris is UTC+2\n",
    "        objDate = objDate + timedelta(hours=-2)\n",
    "        endDate = objDate + timedelta(hours=1)\n",
    "        val = {\n",
    "            \"timestamp\":  objDate.isoformat().replace('T', ' '),\n",
    "            \"intervalEnd\" : endDate.isoformat().replace('T', ' '),\n",
    "        }\n",
    "        if item['variableName'] == 'co':\n",
    "            val['value'] = co[i]\n",
    "        elif item['variableName'] == 'no2':\n",
    "            val['value'] = no2[i]\n",
    "        elif item['variableName'] == 'o3':\n",
    "            val['value'] = o3[i]\n",
    "        elif item['variableName'] == 'pm10':\n",
    "            val['value'] = pm10[i]\n",
    "        elif item['variableName'] == 'pm25':\n",
    "            val['value'] = pm25[i]\n",
    "        if not val['value'] == 'n/d':\n",
    "            val['value'] = int(val['value'])\n",
    "            item['values'].append(val)\n",
    "\n",
    "print('Done!')"
   ]
  },
  {
   "cell_type": "code",
   "execution_count": null,
   "metadata": {},
   "outputs": [],
   "source": []
  },
  {
   "cell_type": "code",
   "execution_count": 17,
   "metadata": {},
   "outputs": [],
   "source": [
    "with open('AQI_PA13b.json', 'w',encoding='utf8') as json_file:\n",
    "  json.dump(AQIDict, json_file, indent=4, default=str,ensure_ascii=False)"
   ]
  },
  {
   "cell_type": "code",
   "execution_count": null,
   "metadata": {},
   "outputs": [],
   "source": []
  }
 ],
 "metadata": {
  "kernelspec": {
   "display_name": "Python 3",
   "language": "python",
   "name": "python3"
  },
  "language_info": {
   "codemirror_mode": {
    "name": "ipython",
    "version": 3
   },
   "file_extension": ".py",
   "mimetype": "text/x-python",
   "name": "python",
   "nbconvert_exporter": "python",
   "pygments_lexer": "ipython3",
   "version": "3.7.4"
  }
 },
 "nbformat": 4,
 "nbformat_minor": 2
}
