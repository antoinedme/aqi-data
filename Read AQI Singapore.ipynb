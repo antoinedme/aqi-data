{
 "cells": [
  {
   "cell_type": "markdown",
   "metadata": {},
   "source": [
    "Call Singapore Open Data API and save JSON"
   ]
  },
  {
   "cell_type": "code",
   "execution_count": 1,
   "metadata": {},
   "outputs": [],
   "source": [
    "import requests\n",
    "import json\n",
    "import pandas as pd"
   ]
  },
  {
   "cell_type": "code",
   "execution_count": 2,
   "metadata": {},
   "outputs": [],
   "source": [
    "from datetime import date"
   ]
  },
  {
   "cell_type": "code",
   "execution_count": 3,
   "metadata": {},
   "outputs": [],
   "source": [
    "today = date.today()"
   ]
  },
  {
   "cell_type": "code",
   "execution_count": 4,
   "metadata": {},
   "outputs": [
    {
     "name": "stdout",
     "output_type": "stream",
     "text": [
      "https://api.data.gov.sg/v1/environment/psi/?date=2020-02-24\n"
     ]
    }
   ],
   "source": [
    "r = requests.get('https://api.data.gov.sg/v1/environment/psi/?date='+str(today))\n",
    "print(r.url)"
   ]
  },
  {
   "cell_type": "code",
   "execution_count": 5,
   "metadata": {},
   "outputs": [],
   "source": [
    "# print(r.text)"
   ]
  },
  {
   "cell_type": "markdown",
   "metadata": {},
   "source": [
    "Save in JSON File"
   ]
  },
  {
   "cell_type": "code",
   "execution_count": 6,
   "metadata": {},
   "outputs": [],
   "source": [
    "text_json = json.loads(r.text)\n",
    "with open('data.json', 'w') as outfile:\n",
    "    json.dump(text_json, outfile)"
   ]
  },
  {
   "cell_type": "code",
   "execution_count": 7,
   "metadata": {},
   "outputs": [
    {
     "name": "stdout",
     "output_type": "stream",
     "text": [
      "{'region_metadata': [{'name': 'west', 'label_location': {'latitude': 1.35735, 'longitude': 103.7}}, {'name': 'national', 'label_location': {'latitude': 0, 'longitude': 0}}, {'name': 'east', 'label_location': {'latitude': 1.35735, 'longitude': 103.94}}, {'name': 'central', 'label_location': {'latitude': 1.35735, 'longitude': 103.82}}, {'name': 'south', 'label_location': {'latitude': 1.29587, 'longitude': 103.82}}, {'name': 'north', 'label_location': {'latitude': 1.41803, 'longitude': 103.82}}], 'items': [{'timestamp': '2020-02-24T01:00:00+08:00', 'update_timestamp': '2020-02-24T01:08:52+08:00', 'readings': {'o3_sub_index': {'west': 11, 'national': 17, 'east': 4, 'central': 17, 'south': 16, 'north': 14}, 'pm10_twenty_four_hourly': {'west': 32, 'national': 38, 'east': 32, 'central': 27, 'south': 38, 'north': 19}, 'pm10_sub_index': {'west': 32, 'national': 38, 'east': 32, 'central': 27, 'south': 38, 'north': 19}, 'co_sub_index': {'west': 4, 'national': 6, 'east': 6, 'central': 4, 'south': 5, 'north': 4}, 'pm25_twenty_four_hourly': {'west': 10, 'national': 16, 'east': 16, 'central': 11, 'south': 11, 'north': 9}, 'so2_sub_index': {'west': 3, 'national': 3, 'east': 2, 'central': 2, 'south': 2, 'north': 3}, 'co_eight_hour_max': {'west': 0.44, 'national': 0.56, 'east': 0.56, 'central': 0.44, 'south': 0.45, 'north': 0.44}, 'no2_one_hour_max': {'west': 12, 'national': 12, 'east': 10, 'central': 10, 'south': 11, 'north': 12}, 'so2_twenty_four_hourly': {'west': 5, 'national': 5, 'east': 3, 'central': 4, 'south': 4, 'north': 4}, 'pm25_sub_index': {'west': 42, 'national': 56, 'east': 56, 'central': 44, 'south': 44, 'north': 39}, 'psi_twenty_four_hourly': {'west': 42, 'national': 56, 'east': 56, 'central': 44, 'south': 44, 'north': 39}, 'o3_eight_hour_max': {'west': 25, 'national': 41, 'east': 10, 'central': 41, 'south': 37, 'north': 34}}}, {'timestamp': '2020-02-24T02:00:00+08:00', 'update_timestamp': '2020-02-24T02:08:52+08:00', 'readings': {'o3_sub_index': {'west': 10, 'national': 16, 'east': 4, 'central': 16, 'south': 15, 'north': 13}, 'pm10_twenty_four_hourly': {'west': 32, 'national': 37, 'east': 32, 'central': 26, 'south': 37, 'north': 20}, 'pm10_sub_index': {'west': 32, 'national': 37, 'east': 32, 'central': 26, 'south': 37, 'north': 20}, 'co_sub_index': {'west': 4, 'national': 6, 'east': 6, 'central': 4, 'south': 5, 'north': 4}, 'pm25_twenty_four_hourly': {'west': 10, 'national': 16, 'east': 16, 'central': 10, 'south': 10, 'north': 10}, 'so2_sub_index': {'west': 3, 'national': 3, 'east': 2, 'central': 2, 'south': 2, 'north': 3}, 'co_eight_hour_max': {'west': 0.44, 'national': 0.57, 'east': 0.57, 'central': 0.44, 'south': 0.45, 'north': 0.45}, 'no2_one_hour_max': {'west': 19, 'national': 19, 'east': 16, 'central': 10, 'south': 10, 'north': 19}, 'so2_twenty_four_hourly': {'west': 5, 'national': 5, 'east': 2, 'central': 4, 'south': 4, 'north': 4}, 'pm25_sub_index': {'west': 40, 'national': 56, 'east': 56, 'central': 43, 'south': 43, 'north': 40}, 'psi_twenty_four_hourly': {'west': 40, 'national': 56, 'east': 56, 'central': 43, 'south': 43, 'north': 40}, 'o3_eight_hour_max': {'west': 23, 'national': 39, 'east': 10, 'central': 39, 'south': 35, 'north': 30}}}, {'timestamp': '2020-02-24T03:00:00+08:00', 'update_timestamp': '2020-02-24T03:08:53+08:00', 'readings': {'o3_sub_index': {'west': 9, 'national': 15, 'east': 4, 'central': 15, 'south': 14, 'north': 12}, 'pm10_twenty_four_hourly': {'west': 32, 'national': 36, 'east': 32, 'central': 26, 'south': 36, 'north': 20}, 'pm10_sub_index': {'west': 32, 'national': 36, 'east': 32, 'central': 26, 'south': 36, 'north': 20}, 'co_sub_index': {'west': 5, 'national': 6, 'east': 6, 'central': 4, 'south': 5, 'north': 5}, 'pm25_twenty_four_hourly': {'west': 9, 'national': 16, 'east': 16, 'central': 10, 'south': 10, 'north': 10}, 'so2_sub_index': {'west': 3, 'national': 3, 'east': 2, 'central': 2, 'south': 2, 'north': 3}, 'co_eight_hour_max': {'west': 0.45, 'national': 0.58, 'east': 0.58, 'central': 0.44, 'south': 0.45, 'north': 0.45}, 'no2_one_hour_max': {'west': 7, 'national': 12, 'east': 12, 'central': 12, 'south': 12, 'north': 9}, 'so2_twenty_four_hourly': {'west': 5, 'national': 5, 'east': 2, 'central': 4, 'south': 4, 'north': 4}, 'pm25_sub_index': {'west': 39, 'national': 56, 'east': 56, 'central': 42, 'south': 42, 'north': 42}, 'psi_twenty_four_hourly': {'west': 39, 'national': 56, 'east': 56, 'central': 42, 'south': 42, 'north': 42}, 'o3_eight_hour_max': {'west': 22, 'national': 37, 'east': 9, 'central': 37, 'south': 33, 'north': 28}}}, {'timestamp': '2020-02-24T04:00:00+08:00', 'update_timestamp': '2020-02-24T04:08:52+08:00', 'readings': {'o3_sub_index': {'west': 9, 'national': 15, 'east': 4, 'central': 15, 'south': 13, 'north': 11}, 'pm10_twenty_four_hourly': {'west': 32, 'national': 36, 'east': 31, 'central': 26, 'south': 36, 'north': 20}, 'pm10_sub_index': {'west': 32, 'national': 36, 'east': 31, 'central': 26, 'south': 36, 'north': 20}, 'co_sub_index': {'west': 5, 'national': 6, 'east': 6, 'central': 4, 'south': 5, 'north': 5}, 'pm25_twenty_four_hourly': {'west': 10, 'national': 17, 'east': 17, 'central': 10, 'south': 10, 'north': 10}, 'so2_sub_index': {'west': 3, 'national': 3, 'east': 2, 'central': 2, 'south': 2, 'north': 3}, 'co_eight_hour_max': {'west': 0.46, 'national': 0.59, 'east': 0.59, 'central': 0.44, 'south': 0.45, 'north': 0.45}, 'no2_one_hour_max': {'west': 6, 'national': 11, 'east': 11, 'central': 9, 'south': 9, 'north': 2}, 'so2_twenty_four_hourly': {'west': 5, 'national': 5, 'east': 3, 'central': 4, 'south': 4, 'north': 4}, 'pm25_sub_index': {'west': 40, 'national': 56, 'east': 56, 'central': 43, 'south': 42, 'north': 42}, 'psi_twenty_four_hourly': {'west': 40, 'national': 56, 'east': 56, 'central': 43, 'south': 42, 'north': 42}, 'o3_eight_hour_max': {'west': 21, 'national': 35, 'east': 9, 'central': 35, 'south': 31, 'north': 25}}}, {'timestamp': '2020-02-24T05:00:00+08:00', 'update_timestamp': '2020-02-24T05:08:52+08:00', 'readings': {'o3_sub_index': {'west': 9, 'national': 15, 'east': 4, 'central': 15, 'south': 13, 'north': 11}, 'pm10_twenty_four_hourly': {'west': 32, 'national': 36, 'east': 31, 'central': 26, 'south': 36, 'north': 21}, 'pm10_sub_index': {'west': 32, 'national': 36, 'east': 31, 'central': 26, 'south': 36, 'north': 21}, 'co_sub_index': {'west': 5, 'national': 6, 'east': 6, 'central': 4, 'south': 5, 'north': 4}, 'pm25_twenty_four_hourly': {'west': 10, 'national': 17, 'east': 17, 'central': 10, 'south': 10, 'north': 10}, 'so2_sub_index': {'west': 3, 'national': 3, 'east': 2, 'central': 2, 'south': 2, 'north': 3}, 'co_eight_hour_max': {'west': 0.46, 'national': 0.58, 'east': 0.58, 'central': 0.44, 'south': 0.45, 'north': 0.45}, 'no2_one_hour_max': {'west': 6, 'national': 8, 'east': 8, 'central': 7, 'south': 7, 'north': 2}, 'so2_twenty_four_hourly': {'west': 5, 'national': 5, 'east': 3, 'central': 4, 'south': 4, 'north': 4}, 'pm25_sub_index': {'west': 41, 'national': 56, 'east': 56, 'central': 44, 'south': 42, 'north': 43}, 'psi_twenty_four_hourly': {'west': 41, 'national': 56, 'east': 56, 'central': 44, 'south': 42, 'north': 43}, 'o3_eight_hour_max': {'west': 20, 'national': 34, 'east': 8, 'central': 34, 'south': 30, 'north': 25}}}, {'timestamp': '2020-02-24T06:00:00+08:00', 'update_timestamp': '2020-02-24T06:08:52+08:00', 'readings': {'o3_sub_index': {'west': 8, 'national': 15, 'east': 4, 'central': 15, 'south': 13, 'north': 10}, 'pm10_twenty_four_hourly': {'west': 32, 'national': 37, 'east': 31, 'central': 26, 'south': 37, 'north': 21}, 'pm10_sub_index': {'west': 32, 'national': 37, 'east': 31, 'central': 26, 'south': 37, 'north': 21}, 'co_sub_index': {'west': 5, 'national': 6, 'east': 6, 'central': 4, 'south': 5, 'north': 4}, 'pm25_twenty_four_hourly': {'west': 10, 'national': 16, 'east': 16, 'central': 10, 'south': 10, 'north': 10}, 'so2_sub_index': {'west': 3, 'national': 3, 'east': 2, 'central': 2, 'south': 2, 'north': 3}, 'co_eight_hour_max': {'west': 0.46, 'national': 0.59, 'east': 0.59, 'central': 0.43, 'south': 0.45, 'north': 0.44}, 'no2_one_hour_max': {'west': 8, 'national': 8, 'east': 8, 'central': 7, 'south': 7, 'north': 3}, 'so2_twenty_four_hourly': {'west': 5, 'national': 5, 'east': 3, 'central': 4, 'south': 4, 'north': 4}, 'pm25_sub_index': {'west': 42, 'national': 56, 'east': 56, 'central': 44, 'south': 42, 'north': 43}, 'psi_twenty_four_hourly': {'west': 42, 'national': 56, 'east': 56, 'central': 44, 'south': 42, 'north': 43}, 'o3_eight_hour_max': {'west': 20, 'national': 35, 'east': 10, 'central': 35, 'south': 31, 'north': 25}}}, {'timestamp': '2020-02-24T07:00:00+08:00', 'update_timestamp': '2020-02-24T07:08:52+08:00', 'readings': {'o3_sub_index': {'west': 8, 'national': 14, 'east': 4, 'central': 14, 'south': 13, 'north': 10}, 'pm10_twenty_four_hourly': {'west': 32, 'national': 36, 'east': 31, 'central': 26, 'south': 36, 'north': 21}, 'pm10_sub_index': {'west': 32, 'national': 36, 'east': 31, 'central': 26, 'south': 36, 'north': 21}, 'co_sub_index': {'west': 5, 'national': 6, 'east': 6, 'central': 4, 'south': 5, 'north': 4}, 'pm25_twenty_four_hourly': {'west': 10, 'national': 16, 'east': 16, 'central': 10, 'south': 10, 'north': 10}, 'so2_sub_index': {'west': 3, 'national': 3, 'east': 2, 'central': 2, 'south': 2, 'north': 3}, 'co_eight_hour_max': {'west': 0.46, 'national': 0.59, 'east': 0.59, 'central': 0.43, 'south': 0.45, 'north': 0.44}, 'no2_one_hour_max': {'west': 18, 'national': 18, 'east': 11, 'central': 10, 'south': 10, 'north': 16}, 'so2_twenty_four_hourly': {'west': 5, 'national': 5, 'east': 3, 'central': 4, 'south': 4, 'north': 4}, 'pm25_sub_index': {'west': 40, 'national': 56, 'east': 56, 'central': 43, 'south': 42, 'north': 43}, 'psi_twenty_four_hourly': {'west': 40, 'national': 56, 'east': 56, 'central': 43, 'south': 42, 'north': 43}, 'o3_eight_hour_max': {'west': 19, 'national': 34, 'east': 10, 'central': 34, 'south': 31, 'north': 23}}}, {'timestamp': '2020-02-24T08:00:00+08:00', 'update_timestamp': '2020-02-24T08:08:52+08:00', 'readings': {'o3_sub_index': {'west': 8, 'national': 14, 'east': 4, 'central': 14, 'south': 13, 'north': 9}, 'pm10_twenty_four_hourly': {'west': 32, 'national': 36, 'east': 30, 'central': 26, 'south': 36, 'north': 21}, 'pm10_sub_index': {'west': 32, 'national': 36, 'east': 30, 'central': 26, 'south': 36, 'north': 21}, 'co_sub_index': {'west': 5, 'national': 6, 'east': 6, 'central': 4, 'south': 5, 'north': 4}, 'pm25_twenty_four_hourly': {'west': 10, 'national': 16, 'east': 16, 'central': 11, 'south': 10, 'north': 10}, 'so2_sub_index': {'west': 3, 'national': 3, 'east': 2, 'central': 2, 'south': 2, 'north': 3}, 'co_eight_hour_max': {'west': 0.46, 'national': 0.6, 'east': 0.6, 'central': 0.43, 'south': 0.45, 'north': 0.45}, 'no2_one_hour_max': {'west': 7, 'national': 16, 'east': 14, 'central': 16, 'south': 16, 'north': 15}, 'so2_twenty_four_hourly': {'west': 5, 'national': 5, 'east': 3, 'central': 4, 'south': 4, 'north': 4}, 'pm25_sub_index': {'west': 40, 'national': 55, 'east': 55, 'central': 44, 'south': 42, 'north': 43}, 'psi_twenty_four_hourly': {'west': 40, 'national': 55, 'east': 55, 'central': 44, 'south': 42, 'north': 43}, 'o3_eight_hour_max': {'west': 19, 'national': 32, 'east': 10, 'central': 32, 'south': 30, 'north': 22}}}, {'timestamp': '2020-02-24T09:00:00+08:00', 'update_timestamp': '2020-02-24T09:08:52+08:00', 'readings': {'o3_sub_index': {'west': 8, 'national': 13, 'east': 4, 'central': 13, 'south': 12, 'north': 9}, 'pm10_twenty_four_hourly': {'west': 32, 'national': 35, 'east': 30, 'central': 26, 'south': 35, 'north': 21}, 'pm10_sub_index': {'west': 32, 'national': 35, 'east': 30, 'central': 26, 'south': 35, 'north': 21}, 'co_sub_index': {'west': 5, 'national': 6, 'east': 6, 'central': 4, 'south': 5, 'north': 4}, 'pm25_twenty_four_hourly': {'west': 10, 'national': 16, 'east': 16, 'central': 10, 'south': 10, 'north': 10}, 'so2_sub_index': {'west': 3, 'national': 3, 'east': 2, 'central': 2, 'south': 2, 'north': 3}, 'co_eight_hour_max': {'west': 0.46, 'national': 0.61, 'east': 0.61, 'central': 0.44, 'south': 0.47, 'north': 0.44}, 'no2_one_hour_max': {'west': 1, 'national': 19, 'east': 17, 'central': 19, 'south': 19, 'north': 13}, 'so2_twenty_four_hourly': {'west': 5, 'national': 5, 'east': 3, 'central': 4, 'south': 4, 'north': 4}, 'pm25_sub_index': {'west': 41, 'national': 55, 'east': 55, 'central': 44, 'south': 42, 'north': 43}, 'psi_twenty_four_hourly': {'west': 41, 'national': 55, 'east': 55, 'central': 44, 'south': 42, 'north': 43}, 'o3_eight_hour_max': {'west': 18, 'national': 31, 'east': 9, 'central': 31, 'south': 29, 'north': 22}}}], 'api_info': {'status': 'healthy'}}\n"
     ]
    }
   ],
   "source": [
    "with open('data.json') as json_file:\n",
    "    data = json.load(json_file)\n",
    "print(data)"
   ]
  },
  {
   "cell_type": "markdown",
   "metadata": {},
   "source": [
    "Format data and extract variable"
   ]
  },
  {
   "cell_type": "code",
   "execution_count": 21,
   "metadata": {},
   "outputs": [
    {
     "data": {
      "text/html": [
       "<div>\n",
       "<style scoped>\n",
       "    .dataframe tbody tr th:only-of-type {\n",
       "        vertical-align: middle;\n",
       "    }\n",
       "\n",
       "    .dataframe tbody tr th {\n",
       "        vertical-align: top;\n",
       "    }\n",
       "\n",
       "    .dataframe thead th {\n",
       "        text-align: right;\n",
       "    }\n",
       "</style>\n",
       "<table border=\"1\" class=\"dataframe\">\n",
       "  <thead>\n",
       "    <tr style=\"text-align: right;\">\n",
       "      <th></th>\n",
       "      <th>region_metadata</th>\n",
       "      <th>items</th>\n",
       "      <th>api_info</th>\n",
       "    </tr>\n",
       "  </thead>\n",
       "  <tbody>\n",
       "    <tr>\n",
       "      <th>0</th>\n",
       "      <td>{'name': 'west', 'label_location': {'latitude'...</td>\n",
       "      <td>{'timestamp': '2020-02-24T01:00:00+08:00', 'up...</td>\n",
       "      <td>status</td>\n",
       "    </tr>\n",
       "    <tr>\n",
       "      <th>1</th>\n",
       "      <td>{'name': 'national', 'label_location': {'latit...</td>\n",
       "      <td>{'timestamp': '2020-02-24T02:00:00+08:00', 'up...</td>\n",
       "      <td>None</td>\n",
       "    </tr>\n",
       "    <tr>\n",
       "      <th>2</th>\n",
       "      <td>{'name': 'east', 'label_location': {'latitude'...</td>\n",
       "      <td>{'timestamp': '2020-02-24T03:00:00+08:00', 'up...</td>\n",
       "      <td>None</td>\n",
       "    </tr>\n",
       "    <tr>\n",
       "      <th>3</th>\n",
       "      <td>{'name': 'central', 'label_location': {'latitu...</td>\n",
       "      <td>{'timestamp': '2020-02-24T04:00:00+08:00', 'up...</td>\n",
       "      <td>None</td>\n",
       "    </tr>\n",
       "    <tr>\n",
       "      <th>4</th>\n",
       "      <td>{'name': 'south', 'label_location': {'latitude...</td>\n",
       "      <td>{'timestamp': '2020-02-24T05:00:00+08:00', 'up...</td>\n",
       "      <td>None</td>\n",
       "    </tr>\n",
       "  </tbody>\n",
       "</table>\n",
       "</div>"
      ],
      "text/plain": [
       "                                     region_metadata  \\\n",
       "0  {'name': 'west', 'label_location': {'latitude'...   \n",
       "1  {'name': 'national', 'label_location': {'latit...   \n",
       "2  {'name': 'east', 'label_location': {'latitude'...   \n",
       "3  {'name': 'central', 'label_location': {'latitu...   \n",
       "4  {'name': 'south', 'label_location': {'latitude...   \n",
       "\n",
       "                                               items api_info  \n",
       "0  {'timestamp': '2020-02-24T01:00:00+08:00', 'up...   status  \n",
       "1  {'timestamp': '2020-02-24T02:00:00+08:00', 'up...     None  \n",
       "2  {'timestamp': '2020-02-24T03:00:00+08:00', 'up...     None  \n",
       "3  {'timestamp': '2020-02-24T04:00:00+08:00', 'up...     None  \n",
       "4  {'timestamp': '2020-02-24T05:00:00+08:00', 'up...     None  "
      ]
     },
     "execution_count": 21,
     "metadata": {},
     "output_type": "execute_result"
    }
   ],
   "source": [
    "df = pd.read_json('data.json', orient='index')\n",
    "df.transpose()[:5]"
   ]
  },
  {
   "cell_type": "code",
   "execution_count": 30,
   "metadata": {},
   "outputs": [
    {
     "data": {
      "text/plain": [
       "{'west': 32,\n",
       " 'national': 37,\n",
       " 'east': 32,\n",
       " 'central': 26,\n",
       " 'south': 37,\n",
       " 'north': 20}"
      ]
     },
     "execution_count": 30,
     "metadata": {},
     "output_type": "execute_result"
    }
   ],
   "source": [
    "df[1]['items']['readings']['pm10_twenty_four_hourly']"
   ]
  },
  {
   "cell_type": "code",
   "execution_count": 40,
   "metadata": {},
   "outputs": [
    {
     "data": {
      "text/plain": [
       "'2020-02-24T02:00:00+08:00'"
      ]
     },
     "execution_count": 40,
     "metadata": {},
     "output_type": "execute_result"
    }
   ],
   "source": [
    "df[1]['items']['timestamp']"
   ]
  },
  {
   "cell_type": "code",
   "execution_count": 46,
   "metadata": {},
   "outputs": [
    {
     "name": "stdout",
     "output_type": "stream",
     "text": [
      "Singapore AQI: 37 (2020-02-24T02:00:00+08:00)\n"
     ]
    }
   ],
   "source": [
    "aqi_national = df[1]['items']['readings']['pm10_twenty_four_hourly']['national']\n",
    "aqi_west = df[1]['items']['readings']['pm10_twenty_four_hourly']['west']\n",
    "aqi_central = df[1]['items']['readings']['pm10_twenty_four_hourly']['central']\n",
    "aqi_south = df[1]['items']['readings']['pm10_twenty_four_hourly']['south']\n",
    "aqi_east = df[1]['items']['readings']['pm10_twenty_four_hourly']['east']\n",
    "aqi_north = df[1]['items']['readings']['pm10_twenty_four_hourly']['north']\n",
    "aqi_timestamp = df[1]['items']['timestamp']\n",
    "print(\"Singapore AQI: \"+str(aqi_national)+\" (\"+str(aqi_timestamp)+\")\")"
   ]
  },
  {
   "cell_type": "code",
   "execution_count": null,
   "metadata": {},
   "outputs": [],
   "source": []
  }
 ],
 "metadata": {
  "kernelspec": {
   "display_name": "Python 3",
   "language": "python",
   "name": "python3"
  },
  "language_info": {
   "codemirror_mode": {
    "name": "ipython",
    "version": 3
   },
   "file_extension": ".py",
   "mimetype": "text/x-python",
   "name": "python",
   "nbconvert_exporter": "python",
   "pygments_lexer": "ipython3",
   "version": "3.7.4"
  }
 },
 "nbformat": 4,
 "nbformat_minor": 4
}
